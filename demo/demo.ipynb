{
 "cells": [
  {
   "cell_type": "code",
   "execution_count": null,
   "id": "ff69f663",
   "metadata": {
    "vscode": {
     "languageId": "plaintext"
    }
   },
   "outputs": [],
   "source": [
    "import cv2\n",
    "import matplotlib.pyplot as plt\n",
    "import numpy as np\n",
    "from utils.detector import detect_faces\n",
    "from utils.encoder import encode_face\n",
    "from utils.matcher import match_face\n",
    "from utils.database import load_database\n",
    "from sklearn.metrics.pairwise import cosine_similarity\n",
    "\n",
    "frame = cv2.imread('../data/sample.jpg')\n",
    "frame_rgb = cv2.cvtColor(frame, cv2.COLOR_BGR2RGB)\n",
    "faces = detect_faces(frame_rgb)\n",
    "db = load_database(\"../embeddings/database.pkl\")\n",
    "\n",
    "plt.imshow(frame_rgb)\n",
    "plt.title(\"Original Image\")\n",
    "plt.axis('off')\n",
    "plt.show()\n",
    "\n",
    "for (x, y, w, h), face_img in faces:\n",
    "    encoding = encode_face(face_img)\n",
    "    similarities = {name: cosine_similarity([encoding], [e])[0][0] for name, e in db.items()}\n",
    "    sorted_sim = sorted(similarities.items(), key=lambda x: -x[1])\n",
    "    name, confidence = sorted_sim[0]\n",
    "    print(\"Top Matches:\")\n",
    "    for name, sim in sorted_sim:\n",
    "        print(f\"{name}: {sim:.4f}\")\n",
    "    plt.imshow(face_img)\n",
    "    plt.title(f\"Top: {name} ({confidence*100:.2f}%)\")\n",
    "    plt.axis('off')\n",
    "    plt.show()"
   ]
  }
 ],
 "metadata": {
  "language_info": {
   "name": "python"
  }
 },
 "nbformat": 4,
 "nbformat_minor": 5
}
