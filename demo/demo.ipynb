{
 "cells": [
  {
   "cell_type": "code",
   "execution_count": null,
   "id": "545308bb",
   "metadata": {
    "vscode": {
     "languageId": "plaintext"
    }
   },
   "outputs": [],
   "source": [
    "import cv2\n",
    "import matplotlib.pyplot as plt\n",
    "from utils.detector import detect_faces\n",
    "from utils.encoder import encode_face\n",
    "from utils.matcher import match_face\n",
    "from utils.database import load_database\n",
    "\n",
    "frame = cv2.imread('../data/sample.jpg')\n",
    "frame_rgb = cv2.cvtColor(frame, cv2.COLOR_BGR2RGB)\n",
    "faces = detect_faces(frame_rgb)\n",
    "db = load_database(\"../embeddings/database.pkl\")\n",
    "\n",
    "for (x, y, w, h), face_img in faces:\n",
    "    encoding = encode_face(face_img)\n",
    "    name, confidence = match_face(encoding, db)\n",
    "    plt.imshow(face_img)\n",
    "    plt.title(f\"{name} ({confidence:.2f}%)\")\n",
    "    plt.show()"
   ]
  }
 ],
 "metadata": {
  "language_info": {
   "name": "python"
  }
 },
 "nbformat": 4,
 "nbformat_minor": 5
}
